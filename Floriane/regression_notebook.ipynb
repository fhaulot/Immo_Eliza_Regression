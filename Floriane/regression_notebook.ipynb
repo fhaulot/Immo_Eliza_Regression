{
 "cells": [
  {
   "cell_type": "code",
   "execution_count": 6,
   "id": "5886746b",
   "metadata": {},
   "outputs": [],
   "source": [
    "import pandas as pd\n",
    "import numpy as np  \n",
    "from sklearn.model_selection import train_test_split\n",
    "from sklearn.preprocessing import LabelEncoder\n",
    "from sklearn.preprocessing import OneHotEncoder"
   ]
  },
  {
   "cell_type": "code",
   "execution_count": null,
   "id": "c9c0dd85",
   "metadata": {},
   "outputs": [
    {
     "name": "stdout",
     "output_type": "stream",
     "text": [
      "<class 'pandas.core.frame.DataFrame'>\n",
      "RangeIndex: 41726 entries, 0 to 41725\n",
      "Data columns (total 19 columns):\n",
      " #   Column                 Non-Null Count  Dtype  \n",
      "---  ------                 --------------  -----  \n",
      " 0   id                     41726 non-null  float64\n",
      " 1   url                    41726 non-null  object \n",
      " 2   type                   41726 non-null  object \n",
      " 3   subtype                41726 non-null  object \n",
      " 4   bedroomCount           41726 non-null  float64\n",
      " 5   province               41726 non-null  object \n",
      " 6   locality               41726 non-null  object \n",
      " 7   postCode               41726 non-null  int64  \n",
      " 8   habitableSurface       41726 non-null  float64\n",
      " 9   buildingCondition      41726 non-null  object \n",
      " 10  hasGarden              41726 non-null  int64  \n",
      " 11  gardenSurface          41726 non-null  float64\n",
      " 12  hasTerrace             41726 non-null  int64  \n",
      " 13  epcScore               41726 non-null  object \n",
      " 14  price                  41726 non-null  float64\n",
      " 15  hasParking             41726 non-null  int64  \n",
      " 16  MunicipalityCleanName  41726 non-null  object \n",
      " 17  region                 41726 non-null  object \n",
      " 18  price_square_meter     41726 non-null  float64\n",
      "dtypes: float64(6), int64(4), object(9)\n",
      "memory usage: 6.0+ MB\n"
     ]
    }
   ],
   "source": [
    "df = pd.read_csv(r\"C:\\Users\\fhaul\\Documents\\GitHub\\Immo_Eliza_Regression\\Dogs Data\\cleaned_data.csv\")\n",
    "df.info()"
   ]
  },
  {
   "cell_type": "code",
   "execution_count": 7,
   "id": "43f3fbcf",
   "metadata": {},
   "outputs": [
    {
     "data": {
      "text/plain": [
       "id                       False\n",
       "url                      False\n",
       "type                     False\n",
       "subtype                  False\n",
       "bedroomCount             False\n",
       "province                 False\n",
       "locality                 False\n",
       "postCode                 False\n",
       "habitableSurface         False\n",
       "buildingCondition        False\n",
       "hasGarden                False\n",
       "gardenSurface            False\n",
       "hasTerrace               False\n",
       "epcScore                 False\n",
       "price                    False\n",
       "hasParking               False\n",
       "MunicipalityCleanName    False\n",
       "region                   False\n",
       "price_square_meter       False\n",
       "dtype: bool"
      ]
     },
     "execution_count": 7,
     "metadata": {},
     "output_type": "execute_result"
    }
   ],
   "source": [
    "df.isnull().any()"
   ]
  }
 ],
 "metadata": {
  "kernelspec": {
   "display_name": "Python 3",
   "language": "python",
   "name": "python3"
  },
  "language_info": {
   "codemirror_mode": {
    "name": "ipython",
    "version": 3
   },
   "file_extension": ".py",
   "mimetype": "text/x-python",
   "name": "python",
   "nbconvert_exporter": "python",
   "pygments_lexer": "ipython3",
   "version": "3.13.3"
  }
 },
 "nbformat": 4,
 "nbformat_minor": 5
}
